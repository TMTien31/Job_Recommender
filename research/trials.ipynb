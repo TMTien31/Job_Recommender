{
 "cells": [
  {
   "cell_type": "code",
   "execution_count": 1,
   "id": "6c8bd816",
   "metadata": {},
   "outputs": [],
   "source": [
    "import fitz # PyMuPDF\n",
    "import os \n",
    "from dotenv import load_dotenv\n",
    "from google import genai\n",
    "\n",
    "load_dotenv()\n",
    "GEMINI_API_KEY = os.getenv(\"GEMINI_API_KEY\")\n",
    "os.environ[\"GEMINI_API_KEY\"] = GEMINI_API_KEY\n"
   ]
  },
  {
   "cell_type": "code",
   "execution_count": 6,
   "id": "e7be30b0",
   "metadata": {},
   "outputs": [],
   "source": [
    "def extract_text_from_pdf(uploaded_file):\n",
    "    \"\"\"\n",
    "    Extracts text from a PDF file.\n",
    "    \n",
    "    Args:\n",
    "        uploaded_file (str): The path to the PDF file.\n",
    "        \n",
    "    Returns:\n",
    "        str: The extracted text.\n",
    "    \"\"\"\n",
    "    #doc = fitz.open(stream=uploaded_file.read(), filetype=\"pdf\")\n",
    "    with open(uploaded_file, \"rb\") as file:\n",
    "        doc = fitz.open(stream=file.read(), filetype=\"pdf\")\n",
    "    text = \"\"\n",
    "    for page in doc:\n",
    "        text += page.get_text()\n",
    "    return text"
   ]
  },
  {
   "cell_type": "code",
   "execution_count": 10,
   "id": "7c1d76c2",
   "metadata": {},
   "outputs": [
    {
     "name": "stdout",
     "output_type": "stream",
     "text": [
      "MuPDF error: library error: zlib error: incorrect header check\n",
      "\n",
      "MuPDF error: library error: zlib error: incorrect header check\n",
      "\n",
      "MuPDF error: library error: zlib error: incorrect header check\n",
      "\n",
      "MuPDF error: library error: zlib error: incorrect header check\n",
      "\n",
      "MuPDF error: library error: zlib error: incorrect header check\n",
      "\n"
     ]
    },
    {
     "data": {
      "text/plain": [
       "''"
      ]
     },
     "execution_count": 10,
     "metadata": {},
     "output_type": "execute_result"
    }
   ],
   "source": [
    "docs = extract_text_from_pdf(uploaded_file=\"../data/langchain.pdf\")\n",
    "docs"
   ]
  },
  {
   "cell_type": "code",
   "execution_count": 20,
   "id": "359fd424",
   "metadata": {},
   "outputs": [],
   "source": [
    "\n",
    "client = genai.Client(api_key=GEMINI_API_KEY)"
   ]
  },
  {
   "cell_type": "code",
   "execution_count": 27,
   "id": "5382f1b2",
   "metadata": {},
   "outputs": [],
   "source": [
    "def ask_llm(prompt):\n",
    "    \"\"\"\n",
    "    Asks the LLM a question and returns the response.\n",
    "    \n",
    "    Args:\n",
    "        prompt (str): The question to ask the LLM.\n",
    "        \n",
    "    Returns:\n",
    "        str: The response from the LLM.\n",
    "    \"\"\"\n",
    "    response = client.models.generate_content(\n",
    "        model=\"gemini-2.0-flash-lite\", \n",
    "        contents=prompt, \n",
    "        config={\"temperature\": 0.7, \"max_output_tokens\": 1000}\n",
    "    )\n",
    "    return response.text"
   ]
  },
  {
   "cell_type": "code",
   "execution_count": 28,
   "id": "aa9042d0",
   "metadata": {},
   "outputs": [
    {
     "name": "stdout",
     "output_type": "stream",
     "text": [
      "The capital of France is **Paris**.\n",
      "\n"
     ]
    }
   ],
   "source": [
    "test = ask_llm(\"What is the capital of France?\")\n",
    "print(test)"
   ]
  },
  {
   "cell_type": "code",
   "execution_count": 29,
   "id": "c399c352",
   "metadata": {},
   "outputs": [],
   "source": [
    "def fetch_linkedin_jobs(search_query, location = 'vietnam', rows = 60):\n",
    "  pass"
   ]
  },
  {
   "cell_type": "code",
   "execution_count": null,
   "id": "5caef743",
   "metadata": {},
   "outputs": [],
   "source": [
    "def fetch_linkedin_jobs(search_query, location = 'vietnam', rows = 60):\n",
    "  pass"
   ]
  }
 ],
 "metadata": {
  "kernelspec": {
   "display_name": "jobrecommender_venv",
   "language": "python",
   "name": "python3"
  },
  "language_info": {
   "codemirror_mode": {
    "name": "ipython",
    "version": 3
   },
   "file_extension": ".py",
   "mimetype": "text/x-python",
   "name": "python",
   "nbconvert_exporter": "python",
   "pygments_lexer": "ipython3",
   "version": "3.12.0"
  }
 },
 "nbformat": 4,
 "nbformat_minor": 5
}
